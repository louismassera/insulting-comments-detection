{
 "cells": [
  {
   "cell_type": "code",
   "execution_count": 1,
   "metadata": {},
   "outputs": [],
   "source": [
    "import numpy as np\n",
    "import pandas as pd\n",
    "from optimisation import *\n",
    "from data_transform import *\n",
    "from scipy.sparse import *\n",
    "from scipy.io import mmread, mmwrite\n",
    "from warnings import filterwarnings"
   ]
  },
  {
   "cell_type": "code",
   "execution_count": 2,
   "metadata": {
    "collapsed": true
   },
   "outputs": [],
   "source": [
    "filterwarnings(\"ignore\")"
   ]
  },
  {
   "cell_type": "markdown",
   "metadata": {},
   "source": [
    "## Get Tfidf matrices"
   ]
  },
  {
   "cell_type": "code",
   "execution_count": 3,
   "metadata": {},
   "outputs": [],
   "source": [
    "X_clean, X_train ,y_train, X_test = clean_corpus()\n",
    "vocabulary_train, counts_train, tfidf_train = TfidfVectorizerTransform(X_train,X_train,1)\n",
    "counts_test= count_words(X_test,vocabulary_train,1)\n",
    "tfidf_test = tfidf(counts_test)"
   ]
  },
  {
   "cell_type": "markdown",
   "metadata": {},
   "source": [
    "## Stochastic Gradient Descent"
   ]
  },
  {
   "cell_type": "code",
   "execution_count": 4,
   "metadata": {},
   "outputs": [],
   "source": [
    "tfidf_train = mmread('data/tfidf_train.csv.mtx')\n",
    "tfidf_test = mmread('data/tfidf_test.csv.mtx')\n",
    "y_train = np.loadtxt('data/y_train.txt')\n",
    "\n",
    "tfidf_train = csc_matrix(tfidf_train)\n",
    "tfidf_test = csc_matrix(tfidf_test)"
   ]
  },
  {
   "cell_type": "code",
   "execution_count": 5,
   "metadata": {},
   "outputs": [
    {
     "name": "stdout",
     "output_type": "stream",
     "text": [
      "0.785159010601 (array([-2.,  0.,  2.]), array([ 350, 4004,   61]))\n"
     ]
    }
   ],
   "source": [
    "sgd = StochasticGradient(tol=0.06,alpha= 0.00001,classes_weight=None,loss='hinge',n_iter = 9,C=1.0)\n",
    "\n",
    "sgd.fit(tfidf_train[:3000],y_train[:3000])\n",
    "score = sgd.score(tfidf_train[3000:].tocsc(),y_train[3000:])\n",
    "y_predict = sgd.predict(tfidf_train).reshape((tfidf_train.shape[0],))\n",
    "print (score,np.unique(y_predict - y_train,return_counts=True))\n",
    "\n",
    "\n",
    "sgd = StochasticGradient(tol=0.06,alpha= 0.00001,classes_weight=None,loss='hinge',n_iter = 9,C=1.0)\n",
    "sgd.fit(tfidf_train,y_train)\n",
    "y_tosend = sgd.predict(tfidf_test)\n",
    "y_tosend = ((y_tosend.astype(int) + 1) / 2).astype(int)\n",
    "\n",
    "np.savetxt('data/y_pred.txt', y_tosend, fmt='%s')"
   ]
  }
 ],
 "metadata": {
  "kernelspec": {
   "display_name": "Python 3",
   "language": "python",
   "name": "python3"
  },
  "language_info": {
   "codemirror_mode": {
    "name": "ipython",
    "version": 3
   },
   "file_extension": ".py",
   "mimetype": "text/x-python",
   "name": "python",
   "nbconvert_exporter": "python",
   "pygments_lexer": "ipython3",
   "version": "3.6.1"
  }
 },
 "nbformat": 4,
 "nbformat_minor": 2
}
